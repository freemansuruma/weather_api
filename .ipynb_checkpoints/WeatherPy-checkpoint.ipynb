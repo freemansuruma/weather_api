{
 "cells": [
  {
   "cell_type": "code",
   "execution_count": 22,
   "metadata": {
    "collapsed": true
   },
   "outputs": [],
   "source": [
    "#import dependencies\n",
    "from citipy import citipy\n",
    "import numpy as np\n",
    "import pandas as pd\n",
    "import requests as req\n",
    "import json\n",
    "import matplotlib.pyplot as plt"
   ]
  },
  {
   "cell_type": "code",
   "execution_count": 24,
   "metadata": {},
   "outputs": [
    {
     "data": {
      "text/plain": [
       "[(6.161448224750103, 84.51489196497022),\n",
       " (80.0920892210381, -90.47198055962063),\n",
       " (-87.9805294786286, -97.67891001646376),\n",
       " (-67.31682726063109, 61.80876953994013),\n",
       " (-67.08991957623196, -113.1378161917803),\n",
       " (-1.3832946519464144, -23.077862811175436),\n",
       " (-67.50870430675477, 6.079712243010903),\n",
       " (-89.44565988442385, 61.339621338307325),\n",
       " (38.32925967289549, -80.03505855329891),\n",
       " (-45.2392362129375, 125.88077049179401)]"
      ]
     },
     "execution_count": 24,
     "metadata": {},
     "output_type": "execute_result"
    }
   ],
   "source": [
    "#generate random latitude and longitudes to use for analysis\n",
    "lat = []\n",
    "lng = []\n",
    "\n",
    "while len(lat) < 1500:\n",
    "    lat.append(np.random.uniform(low=-90,high=90))\n",
    "while len(lng) < 1500:\n",
    "    lng.append(np.random.uniform(low=-180,high=180))\n",
    "    \n",
    "geocodes = list(zip(lat,lng))\n",
    "geocodes[0:10]"
   ]
  },
  {
   "cell_type": "code",
   "execution_count": 28,
   "metadata": {},
   "outputs": [
    {
     "name": "stdout",
     "output_type": "stream",
     "text": [
      "['kalmunai', 'qaanaaq', 'punta arenas', 'taolanaro', 'georgetown', 'hermanus', 'east london', 'staunton', 'esperance', 'mataura'] Number of cities found: 635\n"
     ]
    }
   ],
   "source": [
    "#generate list of cities based on coordinates generated\n",
    "cities_list = []\n",
    "for lat,lng in geocodes:\n",
    "    city = citipy.nearest_city(lat, lng).city_name\n",
    "    if city not in cities_list:\n",
    "        cities_list.append(city)\n",
    "\n",
    "print(cities_list[0:10], 'Number of cities found: ' + str(len(cities_list)))"
   ]
  },
  {
   "cell_type": "code",
   "execution_count": 29,
   "metadata": {},
   "outputs": [
    {
     "data": {
      "text/html": [
       "<div>\n",
       "<style>\n",
       "    .dataframe thead tr:only-child th {\n",
       "        text-align: right;\n",
       "    }\n",
       "\n",
       "    .dataframe thead th {\n",
       "        text-align: left;\n",
       "    }\n",
       "\n",
       "    .dataframe tbody tr th {\n",
       "        vertical-align: top;\n",
       "    }\n",
       "</style>\n",
       "<table border=\"1\" class=\"dataframe\">\n",
       "  <thead>\n",
       "    <tr style=\"text-align: right;\">\n",
       "      <th></th>\n",
       "      <th>city</th>\n",
       "      <th>country code</th>\n",
       "      <th>temperature</th>\n",
       "      <th>cloudiness</th>\n",
       "      <th>wind speed</th>\n",
       "      <th>humidity</th>\n",
       "      <th>latitude</th>\n",
       "      <th>longitude</th>\n",
       "    </tr>\n",
       "  </thead>\n",
       "  <tbody>\n",
       "  </tbody>\n",
       "</table>\n",
       "</div>"
      ],
      "text/plain": [
       "Empty DataFrame\n",
       "Columns: [city, country code, temperature, cloudiness, wind speed, humidity, latitude, longitude]\n",
       "Index: []"
      ]
     },
     "execution_count": 29,
     "metadata": {},
     "output_type": "execute_result"
    }
   ],
   "source": [
    "#create dataframe that will hold the city data\n",
    "city_data = pd.DataFrame()\n",
    "city_data['city'] = ''\n",
    "city_data['country code'] = ''\n",
    "city_data['temperature'] = ''\n",
    "city_data['cloudiness'] = ''\n",
    "city_data['wind speed'] = ''\n",
    "city_data['humidity'] = ''\n",
    "city_data['latitude'] = ''\n",
    "city_data['longitude'] = ''\n",
    "city_data.head()"
   ]
  },
  {
   "cell_type": "code",
   "execution_count": 30,
   "metadata": {
    "scrolled": true
   },
   "outputs": [
    {
     "name": "stdout",
     "output_type": "stream",
     "text": [
      "Weather for TAOLANARO not found...................................\n",
      "Weather for MYS SHMIDTA not found...................................\n",
      "Weather for SENTYABRSKIY not found...................................\n",
      "Weather for ILLOQQORTOORMIUT not found...................................\n",
      "Weather for GRAND RIVER SOUTH EAST not found...................................\n",
      "Weather for FEVRALSK not found...................................\n",
      "Weather for SINKAT not found...................................\n",
      "Weather for TSIHOMBE not found...................................\n",
      "Weather for TILSONBURG not found...................................\n",
      "Weather for BARBAR not found...................................\n",
      "Weather for BALASINOR not found...................................\n",
      "Weather for BARENTSBURG not found...................................\n",
      "Weather for NIZHNEYANSK not found...................................\n",
      "Weather for ASAU not found...................................\n",
      "Weather for LOLUA not found...................................\n",
      "Weather for BRASILEIA not found...................................\n",
      "Weather for BOLSHIYE BEREZNIKI not found...................................\n",
      "Weather for SALEAULA not found...................................\n",
      "Weather for ATTAWAPISKAT not found...................................\n",
      "Weather for BELUSHYA GUBA not found...................................\n",
      "Weather for KUCHE not found...................................\n",
      "Weather for ZHITIKARA not found...................................\n",
      "Weather for PARADWIP not found...................................\n",
      "Weather for KARAUL not found...................................\n",
      "Weather for BAFRA not found...................................\n",
      "Weather for NGUKURR not found...................................\n",
      "Weather for HENDIJAN not found...................................\n",
      "Weather for VAITUPU not found...................................\n",
      "Weather for UMZIMVUBU not found...................................\n",
      "Weather for SAMUSU not found...................................\n",
      "Weather for AMDERMA not found...................................\n",
      "Weather for SAKAKAH not found...................................\n",
      "Weather for TALAH not found...................................\n",
      "Weather for MARCONA not found...................................\n",
      "Weather for MAHADDAY WEYNE not found...................................\n",
      "Weather for TOME-ACU not found...................................\n",
      "Weather for BABANUSAH not found...................................\n",
      "Weather for CUYO not found...................................\n",
      "Weather for SHKOTOVO-26 not found...................................\n",
      "Weather for SOLSVIK not found...................................\n",
      "Weather for BENGKULU not found...................................\n",
      "Weather for POTGIETERSRUS not found...................................\n",
      "Weather for FORT SAINT JOHN not found...................................\n",
      "Weather for ARRECIFE not found...................................\n",
      "Weather for TIDORE not found...................................\n",
      "Weather for BUR GABO not found...................................\n",
      "Weather for ARMACAO DOS BUZIOS not found...................................\n",
      "Weather for SATAUA not found...................................\n",
      "Weather for SEDELNIKOVO not found...................................\n",
      "Weather for MRIRT not found...................................\n",
      "Weather for SUAO not found...................................\n",
      "Weather for SORVAG not found...................................\n",
      "Weather for GERESK not found...................................\n",
      "Weather for PALABUHANRATU not found...................................\n",
      "Weather for BURICA not found...................................\n",
      "Weather for AYER ITAM not found...................................\n"
     ]
    },
    {
     "data": {
      "text/html": [
       "<div>\n",
       "<style>\n",
       "    .dataframe thead tr:only-child th {\n",
       "        text-align: right;\n",
       "    }\n",
       "\n",
       "    .dataframe thead th {\n",
       "        text-align: left;\n",
       "    }\n",
       "\n",
       "    .dataframe tbody tr th {\n",
       "        vertical-align: top;\n",
       "    }\n",
       "</style>\n",
       "<table border=\"1\" class=\"dataframe\">\n",
       "  <thead>\n",
       "    <tr style=\"text-align: right;\">\n",
       "      <th></th>\n",
       "      <th>city</th>\n",
       "      <th>country code</th>\n",
       "      <th>temperature</th>\n",
       "      <th>cloudiness</th>\n",
       "      <th>wind speed</th>\n",
       "      <th>humidity</th>\n",
       "      <th>latitude</th>\n",
       "      <th>longitude</th>\n",
       "    </tr>\n",
       "  </thead>\n",
       "  <tbody>\n",
       "    <tr>\n",
       "      <th>0</th>\n",
       "      <td>kalmunai</td>\n",
       "      <td>LK</td>\n",
       "      <td>76.47</td>\n",
       "      <td>48</td>\n",
       "      <td>5.5</td>\n",
       "      <td>98</td>\n",
       "      <td>-3.12748</td>\n",
       "      <td>154.368</td>\n",
       "    </tr>\n",
       "    <tr>\n",
       "      <th>1</th>\n",
       "      <td>qaanaaq</td>\n",
       "      <td>GL</td>\n",
       "      <td>27.55</td>\n",
       "      <td>24</td>\n",
       "      <td>2.93</td>\n",
       "      <td>100</td>\n",
       "      <td>-3.12748</td>\n",
       "      <td>154.368</td>\n",
       "    </tr>\n",
       "    <tr>\n",
       "      <th>2</th>\n",
       "      <td>punta arenas</td>\n",
       "      <td>CL</td>\n",
       "      <td>39.2</td>\n",
       "      <td>75</td>\n",
       "      <td>9.17</td>\n",
       "      <td>93</td>\n",
       "      <td>-3.12748</td>\n",
       "      <td>154.368</td>\n",
       "    </tr>\n",
       "    <tr>\n",
       "      <th>4</th>\n",
       "      <td>georgetown</td>\n",
       "      <td>GY</td>\n",
       "      <td>75.2</td>\n",
       "      <td>75</td>\n",
       "      <td>6.93</td>\n",
       "      <td>88</td>\n",
       "      <td>-3.12748</td>\n",
       "      <td>154.368</td>\n",
       "    </tr>\n",
       "    <tr>\n",
       "      <th>5</th>\n",
       "      <td>hermanus</td>\n",
       "      <td>ZA</td>\n",
       "      <td>32.73</td>\n",
       "      <td>0</td>\n",
       "      <td>2.82</td>\n",
       "      <td>89</td>\n",
       "      <td>-3.12748</td>\n",
       "      <td>154.368</td>\n",
       "    </tr>\n",
       "  </tbody>\n",
       "</table>\n",
       "</div>"
      ],
      "text/plain": [
       "           city country code temperature cloudiness wind speed humidity  \\\n",
       "0      kalmunai           LK       76.47         48        5.5       98   \n",
       "1       qaanaaq           GL       27.55         24       2.93      100   \n",
       "2  punta arenas           CL        39.2         75       9.17       93   \n",
       "4    georgetown           GY        75.2         75       6.93       88   \n",
       "5      hermanus           ZA       32.73          0       2.82       89   \n",
       "\n",
       "  latitude longitude  \n",
       "0 -3.12748   154.368  \n",
       "1 -3.12748   154.368  \n",
       "2 -3.12748   154.368  \n",
       "4 -3.12748   154.368  \n",
       "5 -3.12748   154.368  "
      ]
     },
     "execution_count": 30,
     "metadata": {},
     "output_type": "execute_result"
    }
   ],
   "source": [
    "#use open weather map api to get weather data on cities in our list and add to dataframe created\n",
    "key = '25bc90a1196e6f153eece0bc0b0fc9eb'\n",
    "url = 'http://api.openweathermap.org/data/2.5/weather?'\n",
    "units = 'imperial'\n",
    "\n",
    "for index, city in enumerate(cities_list):\n",
    "    params={'q':city,'units':units,'appid':key}\n",
    "    weather_data = req.get(url,params=params).json()\n",
    "    try:\n",
    "        country = weather_data['sys']['country']\n",
    "        temp = weather_data['main']['temp']\n",
    "        wind = weather_data['wind']['speed']\n",
    "        cloud = weather_data['clouds']['all']\n",
    "        humidity = weather_data['main']['humidity']\n",
    "        lati = weather_data['coord']['lat']\n",
    "        lngt = weather_data['coord']['lon']\n",
    "        \n",
    "        city_data.set_value(index,'city',city)\n",
    "        city_data.set_value(index,'country code',country)\n",
    "        city_data.set_value(index,'temperature',temp)\n",
    "        city_data.set_value(index,'cloudiness',cloud)\n",
    "        city_data.set_value(index,'wind speed',wind)\n",
    "        city_data.set_value(index,'humidity',humidity)\n",
    "        city_data.set_value(index,'latitude',lat)\n",
    "        city_data.set_value(index,'longitude',lng)\n",
    "    except KeyError:\n",
    "        print('Weather for ' + city.upper() + ' not found...................................')\n",
    "    \n",
    "city_data.head()"
   ]
  },
  {
   "cell_type": "code",
   "execution_count": 36,
   "metadata": {},
   "outputs": [
    {
     "data": {
      "image/png": "[encoded data removed]",
      "text/plain": [
       "<matplotlib.figure.Figure at 0x20be0e303c8>"
      ]
     },
     "metadata": {},
     "output_type": "display_data"
    }
   ],
   "source": [
    "plt.scatter(city_data['latitude'].values,city_data['temperature'].values,c='b')\n",
    "plt.title('Latitude Vs Temperature for cities')\n",
    "plt.xlabel('Latitude')\n",
    "plt.ylabel('Temperature (F)')\n",
    "plt.grid(True)\n",
    "plt.show()"
   ]
  },
  {
   "cell_type": "code",
   "execution_count": 33,
   "metadata": {},
   "outputs": [
    {
     "data": {
      "image/png": "[encoded data removed]",
      "text/plain": [
       "<matplotlib.figure.Figure at 0x20be1094748>"
      ]
     },
     "metadata": {},
     "output_type": "display_data"
    }
   ],
   "source": [
    "plt.scatter(city_data['latitude'],city_data['cloudiness'],c='b')\n",
    "plt.title('Latitude Vs Cloudiness for cities')\n",
    "plt.xlabel('Latitude')\n",
    "plt.ylabel('Cloudiness')\n",
    "plt.grid(True)\n",
    "plt.show()"
   ]
  },
  {
   "cell_type": "code",
   "execution_count": 34,
   "metadata": {},
   "outputs": [
    {
     "data": {
      "image/png": "[encoded data removed]",
      "text/plain": [
       "<matplotlib.figure.Figure at 0x20be0f2ea58>"
      ]
     },
     "metadata": {},
     "output_type": "display_data"
    }
   ],
   "source": [
    "plt.scatter(city_data['latitude'],city_data['wind speed'])\n",
    "plt.title('Latitude Vs Wind Speed for cities')\n",
    "plt.xlabel('Latitude')\n",
    "plt.ylabel('Wind Speed')\n",
    "plt.grid(True)\n",
    "plt.show()"
   ]
  },
  {
   "cell_type": "code",
   "execution_count": 35,
   "metadata": {},
   "outputs": [
    {
     "data": {
      "image/png": "[encoded data removed]",
      "text/plain": [
       "<matplotlib.figure.Figure at 0x20be0e27390>"
      ]
     },
     "metadata": {},
     "output_type": "display_data"
    }
   ],
   "source": [
    "plt.scatter(city_data['latitude'],city_data['humidity'])\n",
    "plt.title('Latitude Vs Humidity for cities')\n",
    "plt.xlabel('Latitude')\n",
    "plt.ylabel('Humidity')\n",
    "plt.grid(True)\n",
    "plt.show()"
   ]
  },
  {
   "cell_type": "code",
   "execution_count": null,
   "metadata": {
    "collapsed": true
   },
   "outputs": [],
   "source": []
  }
 ],
 "metadata": {
  "kernelspec": {
   "display_name": "Python [conda env:PythonData]",
   "language": "python",
   "name": "conda-env-PythonData-py"
  },
  "language_info": {
   "codemirror_mode": {
    "name": "ipython",
    "version": 3
   },
   "file_extension": ".py",
   "mimetype": "text/x-python",
   "name": "python",
   "nbconvert_exporter": "python",
   "pygments_lexer": "ipython3",
   "version": "3.6.3"
  }
 },
 "nbformat": 4,
 "nbformat_minor": 2
}
